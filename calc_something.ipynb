{
 "cells": [
  {
   "cell_type": "code",
   "execution_count": null,
   "metadata": {},
   "outputs": [],
   "source": [
    "import numpy as np\n",
    "import matplotlib.pyplot as plt\n",
    "from mpl_toolkits.axes_grid1 import make_axes_locatable"
   ]
  },
  {
   "cell_type": "markdown",
   "metadata": {},
   "source": [
    "## ファイル読み込み"
   ]
  },
  {
   "cell_type": "code",
   "execution_count": null,
   "metadata": {},
   "outputs": [],
   "source": [
    "f = open(\"build/output.dat\", \"r\")\n",
    "\n",
    "data = f.readlines()\n",
    "\n",
    "f.close()"
   ]
  },
  {
   "cell_type": "markdown",
   "metadata": {},
   "source": [
    "## データ読み込み"
   ]
  },
  {
   "cell_type": "code",
   "execution_count": null,
   "metadata": {},
   "outputs": [],
   "source": [
    "#何枚目を使うか\n",
    "page =  888 "
   ]
  },
  {
   "cell_type": "code",
   "execution_count": null,
   "metadata": {},
   "outputs": [],
   "source": [
    "#画素数の取得\n",
    "pixel_info = data[1].split(\" \")\n",
    "ni = int(pixel_info[1])\n",
    "pixel_info = data[2].split(\" \")\n",
    "nj = int(pixel_info[1])\n",
    "\n",
    "print(\"ni= {}\".format(ni))\n",
    "print(\"nj= {}\".format(nj))\n"
   ]
  },
  {
   "cell_type": "code",
   "execution_count": null,
   "metadata": {},
   "outputs": [],
   "source": [
    "\n",
    "#領域の長さの取得\n",
    "length_info = data[3].split(\" \")\n",
    "Lx = float(length_info[1])\n",
    "length_info = data[4].split(\" \")\n",
    "Ly = float(length_info[1])\n"
   ]
  },
  {
   "cell_type": "code",
   "execution_count": null,
   "metadata": {},
   "outputs": [],
   "source": [
    "print(Lx)\n",
    "print(Ly)"
   ]
  },
  {
   "cell_type": "code",
   "execution_count": null,
   "metadata": {},
   "outputs": [],
   "source": [
    "\n",
    "#角柱領域の取得\n",
    "mask_info = data[5].split(\" \")\n",
    "prism_left = float(mask_info[1])\n",
    "\n",
    "mask_info = data[6].split(\" \")\n",
    "prism_right = float(mask_info[1])\n",
    "\n",
    "mask_info = data[7].split(\" \")\n",
    "prism_under = float(mask_info[1])\n",
    "\n",
    "mask_info = data[8].split(\" \")\n",
    "prism_above = float(mask_info[1])\n"
   ]
  },
  {
   "cell_type": "code",
   "execution_count": null,
   "metadata": {},
   "outputs": [],
   "source": [
    "\n",
    "#刻み幅\n",
    "h = Lx/ni\n",
    "\n",
    "#速度データの読み込み\n",
    "u_tmp = np.zeros((nj, ni))\n",
    "v_tmp = np.zeros((nj, ni))\n",
    "offset_start = 10\n",
    "offset = offset_start + 2 * nj * page\n",
    "for j in range(0, nj):\n",
    "    u_info = data[offset + j].split(\" \")\n",
    "    for i in range(0, ni):\n",
    "        u_tmp[j][i] = float(u_info[i])\n",
    "for j in range(0, nj):\n",
    "    v_info = data[offset + nj + j].split(\" \")\n",
    "    for i in range(0, ni):\n",
    "        v_tmp[j][i] = float(v_info[i])"
   ]
  },
  {
   "cell_type": "markdown",
   "metadata": {},
   "source": [
    "##  プロット用にデータ変換"
   ]
  },
  {
   "cell_type": "code",
   "execution_count": null,
   "metadata": {},
   "outputs": [],
   "source": [
    "U = np.zeros((nj-1, ni-1))\n",
    "V = np.zeros((nj-1, ni-1))\n",
    "X = np.zeros((nj-1, ni-1))\n",
    "Y = np.zeros((nj-1, ni-1))"
   ]
  },
  {
   "cell_type": "code",
   "execution_count": null,
   "metadata": {},
   "outputs": [],
   "source": [
    "# 速度\n",
    "more_than_6_5_i = 10000000\n",
    "for j in range(0, nj-1):\n",
    "    for i in range(0, ni-1):\n",
    "        U[j][i] = (u_tmp[j][i] + u_tmp[j+1][i]) * 0.5\n",
    "        V[j][i] = (v_tmp[j+1][i+1] + v_tmp[j+1][i]) * 0.5\n",
    "        X[j][i] = h * float(i + 1)\n",
    "        Y[j][i] = h * float(nj - j - 1)\n",
    "\n",
    "        #x座標が6.5より大きい範囲を探す(more_than_6_5_i = 136になる)\n",
    "        if X[j][i] > 6.5 and more_than_6_5_i > i:\n",
    "            more_than_6_5_i = i\n"
   ]
  },
  {
   "cell_type": "code",
   "execution_count": null,
   "metadata": {},
   "outputs": [],
   "source": [
    "\n",
    "# 渦度\n",
    "Vort = np.zeros((nj-1, ni-1))\n",
    "for j in range(0, nj-1):\n",
    "    for i in range(0, ni-1):\n",
    "        Vort[j][i] = (-v_tmp[j+1][i]+v_tmp[j+1][i+1])/h - (-u_tmp[j+1][i] + u_tmp[j][i])/h"
   ]
  },
  {
   "cell_type": "code",
   "execution_count": null,
   "metadata": {},
   "outputs": [],
   "source": [
    "# 物体領域内のindex座標の配列を作り(角柱1個)\n",
    "# 速度、渦度をinf, 0にする。\n",
    "# inobject_indices = []\n",
    "# for j in range(0, nj-1):\n",
    "#     for i in range(0, ni-1):\n",
    "#         if (prism_left <= X[j][i] <= prism_right) and (prism_under <= Y[j][i] <= prism_above):\n",
    "#             U[j][i] = float(\"+infinity\")\n",
    "#             V[j][i] = float(\"+infinity\")\n",
    "#             Vort[j][i] = 0.0\n",
    "#             inobject_indices.append((i, j))"
   ]
  },
  {
   "cell_type": "code",
   "execution_count": null,
   "metadata": {},
   "outputs": [],
   "source": [
    "# 物体領域内のindex座標の配列を作り(円1個)\n",
    "# 速度、渦度をinf, 0にする。\n",
    "inobject_indices = []\n",
    "for j in range(0, nj-1):\n",
    "    for i in range(0, ni-1):\n",
    "        if (X[j][i] - 3.0)**2.0 + (Y[j][i] - 3.0)**2.0 <= (0.5 + h)**2.0:\n",
    "            # U[j][i] = float(\"+infinity\")\n",
    "            # V[j][i] = float(\"+infinity\")\n",
    "            # Vort[j][i] = 0.0\n",
    "            inobject_indices.append((i, j))"
   ]
  },
  {
   "cell_type": "markdown",
   "metadata": {},
   "source": [
    "## プロット"
   ]
  },
  {
   "cell_type": "code",
   "execution_count": null,
   "metadata": {},
   "outputs": [],
   "source": [
    "%matplotlib inline"
   ]
  },
  {
   "cell_type": "code",
   "execution_count": null,
   "metadata": {},
   "outputs": [],
   "source": [
    "xmin = np.amin(X)\n",
    "xmax = np.amax(X)\n",
    "ymin = np.amin(Y)\n",
    "ymax = np.amax(Y)"
   ]
  },
  {
   "cell_type": "code",
   "execution_count": null,
   "metadata": {},
   "outputs": [],
   "source": [
    "# plt.rcParams['figure.figsize'] = (26, 12)"
   ]
  },
  {
   "cell_type": "code",
   "execution_count": null,
   "metadata": {},
   "outputs": [],
   "source": [
    "\n",
    "fig, ax = plt.subplots(2, 1, figsize=(12.0, 6.0))\n",
    "\n",
    "img1 = ax[0].imshow(np.sqrt(U**2.0 + V**2.0),vmin=0.0, vmax=1.0,cmap=\"Purples_r\", extent=(xmin, xmax, ymin, ymax))\n",
    "divider1 = make_axes_locatable(ax[0])\n",
    "cax1 = divider1.append_axes(\"right\", size=\"5%\", pad=0.05)\n",
    "cc0 = plt.Circle((2.0, 2.0), 0.25, fill = True, color=\"white\")\n",
    "ax[0].add_artist(cc0)\n",
    "fig.colorbar(img1, cax=cax1)\n",
    "# ax[0].axis(\"on\")\n",
    "\n",
    "img2 = ax[1].imshow(Vort,vmin=-2.0, vmax=2.0,cmap=\"bwr\", extent=(xmin, xmax, ymin, ymax))\n",
    "divider2 = make_axes_locatable(ax[1])\n",
    "cax2 = divider2.append_axes(\"right\", size=\"5%\", pad=0.05)\n",
    "cc1 = plt.Circle((2.0, 2.0), 0.25, fill = True, color=\"white\")\n",
    "ax[1].add_artist(cc1)\n",
    "fig.colorbar(img2, cax=cax2)\n",
    "# ax[1].axis(\"on\")\n",
    "\n",
    "plt.show()"
   ]
  },
  {
   "cell_type": "markdown",
   "metadata": {},
   "source": [
    "## 指数計算"
   ]
  },
  {
   "cell_type": "code",
   "execution_count": null,
   "metadata": {},
   "outputs": [],
   "source": [
    "print(more_than_6_5_i)\n",
    "\n",
    "U_65 = U[ : , more_than_6_5_i : ]\n",
    "V_65 = V[ : , more_than_6_5_i : ]\n",
    "print(np.shape(U_65))"
   ]
  },
  {
   "cell_type": "code",
   "execution_count": null,
   "metadata": {},
   "outputs": [],
   "source": [
    "# return [0, 2π]\n",
    "def atan2(y, x):\n",
    "    phi = np.arctan2(y, x)\n",
    "    if phi < 0.0:\n",
    "        phi = 2.0 * np.pi + phi\n",
    "    return phi\n",
    "\n",
    "def get_delta(phi_pre, phi_next):\n",
    "    # argu = np.arccos(np.cos(phi_pre) * np.cos(phi_next) + np.sin(phi_pre) * np.sin(phi_next))\n",
    "    argu = np.min([abs(phi_pre - phi_next), 2.0 * np.pi - abs(phi_pre - phi_next)])\n",
    "    d1 = np.abs(np.mod(phi_pre + argu, 2.0 * np.pi) - phi_next)\n",
    "    d2 = np.abs(np.mod(phi_pre - argu, 2.0 * np.pi) - phi_next)\n",
    "    if d1 < d2:\n",
    "        return argu\n",
    "    return -argu"
   ]
  },
  {
   "cell_type": "code",
   "execution_count": null,
   "metadata": {},
   "outputs": [],
   "source": [
    "#nxnのセル塊で指数計算\n",
    "n = 1\n",
    "num_point = 4 * n\n",
    "index_list = []\n",
    "index_i = []\n",
    "index_j = []\n",
    "phi_list = [0]*num_point\n",
    "delta_list = [0]*num_point\n",
    "for j in range(0, np.shape(U)[0]-n, n):\n",
    "    for i in range(0, np.shape(U)[1]-n, n):\n",
    "        # if (i,j) in inobject_indices:\n",
    "        #     continue\n",
    "        for k in range(n):\n",
    "            phi_list[k] = atan2(V[j + k][i], U[j + k][i])\n",
    "        for k in range(n):\n",
    "            phi_list[n + k] = atan2(V[j + n][i + k], U[j + n][i + k])\n",
    "        for k in range(n):\n",
    "            phi_list[2 * n + k] = atan2(V[j + n - k][i + n], U[j + n - k][i + n])\n",
    "        for k in range(n):\n",
    "            phi_list[3 * n + k] = atan2(V[j][i + n - k], U[j][i + n - k])\n",
    "        \n",
    "        for k in range(num_point-1):\n",
    "            delta_list[k] = get_delta(phi_list[k], phi_list[k+1])\n",
    "        delta_list[num_point-1] = get_delta(phi_list[num_point-1], phi_list[0])\n",
    "\n",
    "        add_num = 0\n",
    "        for k in range(num_point):\n",
    "            add_num += delta_list[k]\n",
    "        add_num /= 2.0 * np.pi\n",
    "        # print(add_num)\n",
    "        if  0.1 < np.abs(add_num):\n",
    "            print(\"!=========== Detection ==========!\")\n",
    "            print(\"(x, y) = ({}, {})\".format(X[j][i], Y[j][i]))\n",
    "            print(\"index = {}\\n\".format(add_num))\n",
    "            index_list.append(add_num)\n",
    "            index_i.append(i + n//2)\n",
    "            index_j.append(j + n//2)"
   ]
  },
  {
   "cell_type": "markdown",
   "metadata": {},
   "source": [
    "## プロット用の流れ関数"
   ]
  },
  {
   "cell_type": "code",
   "execution_count": null,
   "metadata": {},
   "outputs": [],
   "source": [
    "stream_func2 = []\n",
    "for i in range(0 ,ni-1):\n",
    "    res = 0.0\n",
    "    for j in reversed(range(nj-1)):\n",
    "        res += U[j][i] * h\n",
    "        if (i, j) in inobject_indices:\n",
    "            stream_func2.append([X[j][i], Y[j][i], res])\n",
    "            continue\n",
    "        stream_func2.append([X[j][i], Y[j][i], res])\n",
    "\n",
    "stream_func2 = np.array(stream_func2)"
   ]
  },
  {
   "cell_type": "code",
   "execution_count": null,
   "metadata": {},
   "outputs": [],
   "source": [
    "nY = nj - 1\n",
    "\n",
    "xdata = stream_func2[:, 0]\n",
    "ydata = stream_func2[:, 1]\n",
    "zdata = stream_func2[:, 2]"
   ]
  },
  {
   "cell_type": "code",
   "execution_count": null,
   "metadata": {},
   "outputs": [],
   "source": [
    "print(np.shape(xdata))"
   ]
  },
  {
   "cell_type": "code",
   "execution_count": null,
   "metadata": {},
   "outputs": [],
   "source": [
    "X1 = np.array([xdata[idx:idx + nY] for idx in range(0, len(xdata), nY)])\n",
    "X2 = np.array([ydata[idx:idx + nY] for idx in range(0, len(ydata), nY)])\n",
    "X3 = np.array([zdata[idx:idx + nY] for idx in range(0, len(zdata), nY)])"
   ]
  },
  {
   "cell_type": "code",
   "execution_count": null,
   "metadata": {},
   "outputs": [],
   "source": [
    "left_stream = 0.0\n",
    "right_stream = 8.0\n",
    "under_stream = 0.0\n",
    "above_stream = 4.0"
   ]
  },
  {
   "cell_type": "code",
   "execution_count": null,
   "metadata": {},
   "outputs": [],
   "source": [
    "fig = plt.figure(figsize=(26.0, 12.0))\n",
    "# ax = fig.add_subplot(111, projection='3d')\n",
    "ax_stream = fig.add_subplot(111)\n",
    "# surf = ax.plot_surface(X, Y, Z, cmap='bwr', linewidth=0)\n",
    "# ax_stream.contour(X1, X2, X3, colors = \"black\", offset = 11, levels=5000)\n",
    "# cs = ax_stream.contour(X1, X2, X3, colors = \"black\", levels= np.linspace(5.94, 6.03, num =100))\n",
    "# cs = ax_stream.contour(X1, X2, X3, colors = \"black\", levels= np.linspace(2.983, 2.994, num =10))\n",
    "levelarray = [0] * len(index_i)\n",
    "for k in range(len(index_i)):\n",
    "    ik = index_i[k]\n",
    "    jk = index_j[k]\n",
    "    levelarray[k] = zdata[ik * (nj - 1) + jk]\n",
    "levelarray = np.array(levelarray)\n",
    "levelarray = np.sort(levelarray)\n",
    "cs = ax_stream.contour(X1, X2, X3, colors = \"black\", levels=levelarray)\n",
    "# cs = ax_stream.contour(X1, X2, X3, colors = \"black\", levels= np.linspace(np.min(levelarray),np.max(levelarray), num =20))\n",
    "ax_stream.set_xlim(left_stream, right_stream)\n",
    "ax_stream.set_ylim(under_stream, above_stream)\n",
    "# cc_stream = plt.Circle((6.0, 6.0), 0.5,fill=True, color=\"blue\", alpha = 0.5)\n",
    "cc_stream = plt.Circle((2.0, 2.0), 0.25,fill=True, color=\"blue\", alpha = 0.5)\n",
    "ax_stream.add_artist(cc_stream)\n",
    "ax_stream.set_aspect(\"equal\")\n",
    "for k in range(len(index_i)):\n",
    "    ik = index_i[k]\n",
    "    jk = index_j[k]\n",
    "    print((X[jk][ik], Y[jk][ik]))\n",
    "    ax_stream.scatter(X[jk][ik], Y[jk][ik], s=100, c='red', marker='o')\n",
    "plt.show()"
   ]
  },
  {
   "cell_type": "markdown",
   "metadata": {},
   "source": [
    "## 速度ベクトル場"
   ]
  },
  {
   "cell_type": "code",
   "execution_count": null,
   "metadata": {},
   "outputs": [],
   "source": [
    "left = 0 \n",
    "right = 8 \n",
    "under = 0 \n",
    "above = 4 \n",
    "scale = 15.0 "
   ]
  },
  {
   "cell_type": "code",
   "execution_count": null,
   "metadata": {},
   "outputs": [],
   "source": [
    "fig_vec, ax_vec = plt.subplots(figsize=(26.0, 12.0))\n",
    "ax_vec.set_aspect(\"equal\")\n",
    "ax_vec.set_xlim(left, right)\n",
    "ax_vec.set_ylim(under, above)\n",
    "cc = plt.Circle((2.0, 2.0), 0.25,fill=True, color=\"blue\", alpha = 0.5)\n",
    "ax_vec.add_artist(cc)\n",
    "ax_vec.quiver(X, Y, U, V, scale=scale)\n",
    "for k in range(len(index_i)):\n",
    "    ik = index_i[k]\n",
    "    jk = index_j[k]\n",
    "    print((X[jk][ik], Y[jk][ik]))\n",
    "    ax_vec.scatter(X[jk][ik], Y[jk][ik], s=100, c='red', marker='o')\n",
    "plt.show()"
   ]
  }
 ],
 "metadata": {
  "interpreter": {
   "hash": "916dbcbb3f70747c44a77c7bcd40155683ae19c65e1c03b4aa3499c5328201f1"
  },
  "kernelspec": {
   "display_name": "Python 3.8.10 64-bit",
   "name": "python3"
  },
  "language_info": {
   "codemirror_mode": {
    "name": "ipython",
    "version": 3
   },
   "file_extension": ".py",
   "mimetype": "text/x-python",
   "name": "python",
   "nbconvert_exporter": "python",
   "pygments_lexer": "ipython3",
   "version": "3.8.10"
  },
  "orig_nbformat": 4
 },
 "nbformat": 4,
 "nbformat_minor": 2
}
